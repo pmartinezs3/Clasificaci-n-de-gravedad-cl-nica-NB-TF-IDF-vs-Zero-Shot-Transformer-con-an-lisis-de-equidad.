{
  "cells": [
    {
      "cell_type": "markdown",
      "metadata": {},
      "source": [
        "# M\u00f3dulo 9 \u2014 Clasificaci\u00f3n de gravedad cl\u00ednica (ES)\n",
        "Baseline **Naive Bayes + TF\u2011IDF** vs **Zero\u2011Shot Transformer** y an\u00e1lisis r\u00e1pido de **equidad** (F1 por grupo).\n"
      ]
    },
    {
      "cell_type": "code",
      "metadata": {},
      "execution_count": null,
      "outputs": [],
      "source": [
        "import pandas as pd, numpy as np\n",
        "from pathlib import Path\n",
        "df = pd.read_csv('data/datos_ejemplo.csv')\n",
        "df.head()"
      ]
    },
    {
      "cell_type": "code",
      "metadata": {},
      "execution_count": null,
      "outputs": [],
      "source": [
        "# Entrenamiento r\u00e1pido NB + TF-IDF (ver src/train_nb_tfidf.py para versi\u00f3n completa)\n",
        "from sklearn.model_selection import train_test_split\n",
        "from sklearn.feature_extraction.text import TfidfVectorizer\n",
        "from sklearn.naive_bayes import MultinomialNB\n",
        "from sklearn.pipeline import Pipeline\n",
        "from sklearn.metrics import classification_report\n",
        "from src.preprocess import preprocess_text\n",
        "df['texto_proc'] = df['texto_clinico'].astype(str).map(preprocess_text)\n",
        "Xtr, Xte, ytr, yte = train_test_split(df['texto_proc'], df['gravedad'], stratify=df['gravedad'], random_state=42)\n",
        "pipe = Pipeline([('tfidf', TfidfVectorizer()), ('nb', MultinomialNB())]).fit(Xtr, ytr)\n",
        "print(classification_report(yte, pipe.predict(Xte)))"
      ]
    },
    {
      "cell_type": "markdown",
      "metadata": {},
      "source": [
        "Para evaluaci\u00f3n **Zero\u2011Shot**, usa `src/eval_zero_shot.py` (requiere `transformers` y `torch`)."
      ]
    }
  ],
  "metadata": {
    "kernelspec": {
      "display_name": "Python 3",
      "language": "python",
      "name": "python3"
    }
  },
  "nbformat": 4,
  "nbformat_minor": 5
}